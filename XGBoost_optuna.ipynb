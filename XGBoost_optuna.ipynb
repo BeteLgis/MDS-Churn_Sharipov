{
 "cells": [
  {
   "cell_type": "code",
   "execution_count": 1,
   "id": "228c3bdf-ec45-4aae-8fbc-09a181e12360",
   "metadata": {},
   "outputs": [],
   "source": [
    "import pandas as pd\n",
    "\n",
    "from xgboost import XGBClassifier\n",
    "from sklearn.model_selection import train_test_split\n",
    "from lifelines.utils import concordance_index\n",
    "from sklearn.metrics import classification_report\n",
    "\n",
    "import optuna\n",
    "from optuna.samplers import TPESampler\n",
    "from params_manager import save_params"
   ]
  },
  {
   "cell_type": "code",
   "execution_count": 2,
   "id": "40c875f2-952d-4f29-b32f-51ae65ce1653",
   "metadata": {},
   "outputs": [],
   "source": [
    "import warnings\n",
    "warnings.filterwarnings('ignore')"
   ]
  },
  {
   "cell_type": "code",
   "execution_count": 3,
   "id": "211d68fb02f09505",
   "metadata": {},
   "outputs": [],
   "source": [
    "from params_manager import INTERNAL_PATH\n",
    "\n",
    "seed = 42"
   ]
  },
  {
   "cell_type": "markdown",
   "id": "3839f93d-ebcc-4221-8d6f-89df90f922da",
   "metadata": {},
   "source": [
    "## Load features"
   ]
  },
  {
   "cell_type": "code",
   "execution_count": 4,
   "id": "ed00fd18-f457-4c02-851f-a645e92d6c80",
   "metadata": {},
   "outputs": [
    {
     "data": {
      "text/plain": [
       "((63636,), (63636, 167))"
      ]
     },
     "execution_count": 4,
     "metadata": {},
     "output_type": "execute_result"
    }
   ],
   "source": [
    "t = pd.read_csv(INTERNAL_PATH / 'train.csv')\n",
    "t = t[t['outlier'] == 0].drop('outlier', axis=1)\n",
    "\n",
    "X = t.drop('target', axis=1)\n",
    "y = t['target']\n",
    "\n",
    "cat_col = X.select_dtypes(include=['object']).columns.tolist()\n",
    "y.shape, X.shape"
   ]
  },
  {
   "cell_type": "code",
   "execution_count": 5,
   "id": "cd4d79a2-a80a-4f13-b191-c22293a6a3ab",
   "metadata": {},
   "outputs": [],
   "source": [
    "X_train, X_test, y_train, y_test = train_test_split(X.drop(cat_col, axis=1), y,\n",
    "                                                    test_size=0.2, random_state=seed, stratify=y)"
   ]
  },
  {
   "cell_type": "markdown",
   "id": "55d39488b2c09128",
   "metadata": {
    "collapsed": false
   },
   "source": [
    "## Hyperparameter Optimization with Optuna"
   ]
  },
  {
   "cell_type": "code",
   "execution_count": 6,
   "id": "fe4eb3eb-52a7-404e-9652-a67eb116541d",
   "metadata": {},
   "outputs": [
    {
     "name": "stderr",
     "output_type": "stream",
     "text": [
      "[I 2024-05-20 20:08:52,136] A new study created in RDB with name: binary_classification_XGBoost\n",
      "[I 2024-05-20 20:09:17,266] Trial 0 finished with value: 0.7597951268472334 and parameters: {'n_estimators': 4569, 'learning_rate': 0.03612497338391456, 'gamma': 0.3279923530972189, 'subsample': 0.8492242714949125, 'colsample_bytree': 0.27989576854581266, 'max_depth': 4, 'min_child_weight': 78, 'reg_lambda': 5.690809841819152e-05, 'reg_alpha': 1.7302327962557243e-05}. Best is trial 0 with value: 0.7597951268472334.\n",
      "[I 2024-05-20 20:09:40,850] Trial 1 finished with value: 0.7490717136201045 and parameters: {'n_estimators': 4048, 'learning_rate': 0.06102834897771546, 'gamma': 0.08140430390004257, 'subsample': 0.20360199864761197, 'colsample_bytree': 0.3992693940732932, 'max_depth': 19, 'min_child_weight': 88, 'reg_lambda': 0.005802958114041871, 'reg_alpha': 4.6136314033887355e-05}. Best is trial 0 with value: 0.7597951268472334.\n",
      "[I 2024-05-20 20:09:56,075] Trial 2 finished with value: 0.769450203061393 and parameters: {'n_estimators': 4815, 'learning_rate': 0.07146353034997566, 'gamma': 0.3870726380268738, 'subsample': 0.8880655680881886, 'colsample_bytree': 0.1705197176449865, 'max_depth': 1, 'min_child_weight': 71, 'reg_lambda': 0.0012096833966325948, 'reg_alpha': 2.5582464807028273}. Best is trial 2 with value: 0.769450203061393.\n",
      "[I 2024-05-20 20:10:43,930] Trial 3 finished with value: 0.7451923832336865 and parameters: {'n_estimators': 4799, 'learning_rate': 0.02985218510841349, 'gamma': 0.27408370163997176, 'subsample': 0.7610728182801257, 'colsample_bytree': 0.5847686706804325, 'max_depth': 23, 'min_child_weight': 58, 'reg_lambda': 8.662800331468797e-08, 'reg_alpha': 0.21486332909070144}. Best is trial 2 with value: 0.769450203061393.\n",
      "[I 2024-05-20 20:11:14,755] Trial 4 finished with value: 0.7387055617818096 and parameters: {'n_estimators': 4773, 'learning_rate': 0.0754642429101869, 'gamma': 0.4277576670473771, 'subsample': 0.37128479490316335, 'colsample_bytree': 0.19870426847768724, 'max_depth': 28, 'min_child_weight': 92, 'reg_lambda': 3.8917456539502505e-05, 'reg_alpha': 2.105485010412165e-09}. Best is trial 2 with value: 0.769450203061393.\n",
      "[I 2024-05-20 20:11:23,714] Trial 5 finished with value: 0.7764508107224112 and parameters: {'n_estimators': 612, 'learning_rate': 0.010782989364623309, 'gamma': 0.057931026029600444, 'subsample': 0.8630466550021311, 'colsample_bytree': 0.4428827911553296, 'max_depth': 16, 'min_child_weight': 47, 'reg_lambda': 4.566774169180873e-06, 'reg_alpha': 4.9375122547368406e-05}. Best is trial 5 with value: 0.7764508107224112.\n",
      "[I 2024-05-20 20:11:31,160] Trial 6 finished with value: 0.7418086813755906 and parameters: {'n_estimators': 841, 'learning_rate': 0.09871136459060842, 'gamma': 0.19771475071287123, 'subsample': 0.3155629301486623, 'colsample_bytree': 0.5839777797427568, 'max_depth': 27, 'min_child_weight': 58, 'reg_lambda': 5.648609549492276e-07, 'reg_alpha': 1.738067324595574e-05}. Best is trial 5 with value: 0.7764508107224112.\n",
      "[I 2024-05-20 20:12:14,838] Trial 7 finished with value: 0.7439870018261897 and parameters: {'n_estimators': 4000, 'learning_rate': 0.022410158428393938, 'gamma': 0.22195464715081273, 'subsample': 0.472692893725564, 'colsample_bytree': 0.5849176560775949, 'max_depth': 28, 'min_child_weight': 27, 'reg_lambda': 0.36227668727179446, 'reg_alpha': 0.003941071875037635}. Best is trial 5 with value: 0.7764508107224112.\n",
      "[I 2024-05-20 20:12:22,026] Trial 8 finished with value: 0.7643294164049235 and parameters: {'n_estimators': 1647, 'learning_rate': 0.03453321318132982, 'gamma': 0.17889083786239893, 'subsample': 0.4719431361121619, 'colsample_bytree': 0.5548151747828131, 'max_depth': 2, 'min_child_weight': 31, 'reg_lambda': 3.9852315663547895, 'reg_alpha': 78.44718796407359}. Best is trial 5 with value: 0.7764508107224112.\n",
      "[I 2024-05-20 20:12:52,103] Trial 9 finished with value: 0.709576352847429 and parameters: {'n_estimators': 2534, 'learning_rate': 0.06529871169584411, 'gamma': 0.140081206114556, 'subsample': 0.1631774476621351, 'colsample_bytree': 0.9337563006737959, 'max_depth': 21, 'min_child_weight': 8, 'reg_lambda': 0.029425131407607236, 'reg_alpha': 0.05732542679988114}. Best is trial 5 with value: 0.7764508107224112.\n"
     ]
    }
   ],
   "source": [
    "def objective(trial):\n",
    "    params = {\n",
    "        'n_estimators': trial.suggest_int('n_estimators', 600, 5000),\n",
    "        'learning_rate': trial.suggest_float('learning_rate', 0.01, 0.1, log=True),\n",
    "        'gamma' : trial.suggest_float('gamma', 1e-9, 0.5),\n",
    "        'subsample': trial.suggest_float('subsample', 0.1, 1.0),\n",
    "        'colsample_bytree': trial.suggest_float('colsample_bytree', 0.1, 1.0),\n",
    "        'max_depth': trial.suggest_int('max_depth', 1, 30),\n",
    "        'min_child_weight': trial.suggest_int('min_child_weight', 1, 100),\n",
    "        'reg_lambda': trial.suggest_float('reg_lambda', 1e-9, 100.0, log=True),\n",
    "        'reg_alpha': trial.suggest_float('reg_alpha', 1e-9, 100.0, log=True),\n",
    "    }\n",
    "    params['booster'] = 'gbtree'\n",
    "    params['grow_policy'] = 'depthwise'\n",
    "    params['objective'] = 'binary:logistic'\n",
    "    params[\"tree_method\"] = 'hist'\n",
    "    params[\"device\"] = 'cuda'\n",
    "    params[\"verbosity\"] = 0\n",
    "    \n",
    "    xgb = XGBClassifier(**params)\n",
    "    xgb.fit(X_train, y_train)\n",
    "    \n",
    "    return concordance_index(y_test, xgb.predict_proba(X_test)[:, 1])\n",
    "\n",
    "sqlite_db = \"sqlite:///xgb_sqlite.db\"\n",
    "study_name = \"binary_classification_XGBoost\"\n",
    "study = optuna.create_study(storage=sqlite_db, study_name=study_name, \n",
    "                            sampler=TPESampler(n_startup_trials=50, multivariate=True, seed=142),\n",
    "                            direction=\"maximize\", load_if_exists=True)\n",
    "\n",
    "study.optimize(objective, n_trials=10)"
   ]
  },
  {
   "cell_type": "code",
   "execution_count": 7,
   "id": "71ff0a24-ab17-40ab-a3d1-e6f7b15a4ae7",
   "metadata": {},
   "outputs": [
    {
     "name": "stdout",
     "output_type": "stream",
     "text": [
      "best optimized roc_auc: 0.77645\n"
     ]
    },
    {
     "data": {
      "text/plain": [
       "{'n_estimators': 612,\n",
       " 'learning_rate': 0.010782989364623309,\n",
       " 'gamma': 0.057931026029600444,\n",
       " 'subsample': 0.8630466550021311,\n",
       " 'colsample_bytree': 0.4428827911553296,\n",
       " 'max_depth': 16,\n",
       " 'min_child_weight': 47,\n",
       " 'reg_lambda': 4.566774169180873e-06,\n",
       " 'reg_alpha': 4.9375122547368406e-05,\n",
       " 'booster': 'gbtree',\n",
       " 'grow_policy': 'depthwise',\n",
       " 'objective': 'binary:logistic',\n",
       " 'tree_method': 'hist',\n",
       " 'device': 'cuda',\n",
       " 'verbosity': 0}"
      ]
     },
     "execution_count": 7,
     "metadata": {},
     "output_type": "execute_result"
    }
   ],
   "source": [
    "print(f\"best optimized roc_auc: {study.best_value:0.5f}\")\n",
    "\n",
    "params = study.best_params\n",
    "params['booster'] = 'gbtree'\n",
    "params['grow_policy'] = 'depthwise'\n",
    "params['objective'] = 'binary:logistic'\n",
    "params[\"tree_method\"] = 'hist'\n",
    "params[\"device\"] = 'cuda'\n",
    "params[\"verbosity\"] = 0\n",
    "\n",
    "params"
   ]
  },
  {
   "cell_type": "code",
   "execution_count": 8,
   "id": "bee33cac920c3bd0",
   "metadata": {},
   "outputs": [],
   "source": [
    "save_params(params, 'xbg')"
   ]
  },
  {
   "cell_type": "code",
   "execution_count": 9,
   "id": "239f443c-54c0-4107-9af2-f9a481bc02d3",
   "metadata": {},
   "outputs": [
    {
     "data": {
      "text/html": [
       "<style>#sk-container-id-1 {color: black;}#sk-container-id-1 pre{padding: 0;}#sk-container-id-1 div.sk-toggleable {background-color: white;}#sk-container-id-1 label.sk-toggleable__label {cursor: pointer;display: block;width: 100%;margin-bottom: 0;padding: 0.3em;box-sizing: border-box;text-align: center;}#sk-container-id-1 label.sk-toggleable__label-arrow:before {content: \"▸\";float: left;margin-right: 0.25em;color: #696969;}#sk-container-id-1 label.sk-toggleable__label-arrow:hover:before {color: black;}#sk-container-id-1 div.sk-estimator:hover label.sk-toggleable__label-arrow:before {color: black;}#sk-container-id-1 div.sk-toggleable__content {max-height: 0;max-width: 0;overflow: hidden;text-align: left;background-color: #f0f8ff;}#sk-container-id-1 div.sk-toggleable__content pre {margin: 0.2em;color: black;border-radius: 0.25em;background-color: #f0f8ff;}#sk-container-id-1 input.sk-toggleable__control:checked~div.sk-toggleable__content {max-height: 200px;max-width: 100%;overflow: auto;}#sk-container-id-1 input.sk-toggleable__control:checked~label.sk-toggleable__label-arrow:before {content: \"▾\";}#sk-container-id-1 div.sk-estimator input.sk-toggleable__control:checked~label.sk-toggleable__label {background-color: #d4ebff;}#sk-container-id-1 div.sk-label input.sk-toggleable__control:checked~label.sk-toggleable__label {background-color: #d4ebff;}#sk-container-id-1 input.sk-hidden--visually {border: 0;clip: rect(1px 1px 1px 1px);clip: rect(1px, 1px, 1px, 1px);height: 1px;margin: -1px;overflow: hidden;padding: 0;position: absolute;width: 1px;}#sk-container-id-1 div.sk-estimator {font-family: monospace;background-color: #f0f8ff;border: 1px dotted black;border-radius: 0.25em;box-sizing: border-box;margin-bottom: 0.5em;}#sk-container-id-1 div.sk-estimator:hover {background-color: #d4ebff;}#sk-container-id-1 div.sk-parallel-item::after {content: \"\";width: 100%;border-bottom: 1px solid gray;flex-grow: 1;}#sk-container-id-1 div.sk-label:hover label.sk-toggleable__label {background-color: #d4ebff;}#sk-container-id-1 div.sk-serial::before {content: \"\";position: absolute;border-left: 1px solid gray;box-sizing: border-box;top: 0;bottom: 0;left: 50%;z-index: 0;}#sk-container-id-1 div.sk-serial {display: flex;flex-direction: column;align-items: center;background-color: white;padding-right: 0.2em;padding-left: 0.2em;position: relative;}#sk-container-id-1 div.sk-item {position: relative;z-index: 1;}#sk-container-id-1 div.sk-parallel {display: flex;align-items: stretch;justify-content: center;background-color: white;position: relative;}#sk-container-id-1 div.sk-item::before, #sk-container-id-1 div.sk-parallel-item::before {content: \"\";position: absolute;border-left: 1px solid gray;box-sizing: border-box;top: 0;bottom: 0;left: 50%;z-index: -1;}#sk-container-id-1 div.sk-parallel-item {display: flex;flex-direction: column;z-index: 1;position: relative;background-color: white;}#sk-container-id-1 div.sk-parallel-item:first-child::after {align-self: flex-end;width: 50%;}#sk-container-id-1 div.sk-parallel-item:last-child::after {align-self: flex-start;width: 50%;}#sk-container-id-1 div.sk-parallel-item:only-child::after {width: 0;}#sk-container-id-1 div.sk-dashed-wrapped {border: 1px dashed gray;margin: 0 0.4em 0.5em 0.4em;box-sizing: border-box;padding-bottom: 0.4em;background-color: white;}#sk-container-id-1 div.sk-label label {font-family: monospace;font-weight: bold;display: inline-block;line-height: 1.2em;}#sk-container-id-1 div.sk-label-container {text-align: center;}#sk-container-id-1 div.sk-container {/* jupyter's `normalize.less` sets `[hidden] { display: none; }` but bootstrap.min.css set `[hidden] { display: none !important; }` so we also need the `!important` here to be able to override the default hidden behavior on the sphinx rendered scikit-learn.org. See: https://github.com/scikit-learn/scikit-learn/issues/21755 */display: inline-block !important;position: relative;}#sk-container-id-1 div.sk-text-repr-fallback {display: none;}</style><div id=\"sk-container-id-1\" class=\"sk-top-container\"><div class=\"sk-text-repr-fallback\"><pre>XGBClassifier(base_score=None, booster=&#x27;gbtree&#x27;, callbacks=None,\n",
       "              colsample_bylevel=None, colsample_bynode=None,\n",
       "              colsample_bytree=0.4428827911553296, device=&#x27;cuda&#x27;,\n",
       "              early_stopping_rounds=None, enable_categorical=False,\n",
       "              eval_metric=None, feature_types=None, gamma=0.057931026029600444,\n",
       "              grow_policy=&#x27;depthwise&#x27;, importance_type=None,\n",
       "              interaction_constraints=None, learning_rate=0.010782989364623309,\n",
       "              max_bin=None, max_cat_threshold=None, max_cat_to_onehot=None,\n",
       "              max_delta_step=None, max_depth=16, max_leaves=None,\n",
       "              min_child_weight=47, missing=nan, monotone_constraints=None,\n",
       "              multi_strategy=None, n_estimators=612, n_jobs=None,\n",
       "              num_parallel_tree=None, random_state=None, ...)</pre><b>In a Jupyter environment, please rerun this cell to show the HTML representation or trust the notebook. <br />On GitHub, the HTML representation is unable to render, please try loading this page with nbviewer.org.</b></div><div class=\"sk-container\" hidden><div class=\"sk-item\"><div class=\"sk-estimator sk-toggleable\"><input class=\"sk-toggleable__control sk-hidden--visually\" id=\"sk-estimator-id-1\" type=\"checkbox\" checked><label for=\"sk-estimator-id-1\" class=\"sk-toggleable__label sk-toggleable__label-arrow\">XGBClassifier</label><div class=\"sk-toggleable__content\"><pre>XGBClassifier(base_score=None, booster=&#x27;gbtree&#x27;, callbacks=None,\n",
       "              colsample_bylevel=None, colsample_bynode=None,\n",
       "              colsample_bytree=0.4428827911553296, device=&#x27;cuda&#x27;,\n",
       "              early_stopping_rounds=None, enable_categorical=False,\n",
       "              eval_metric=None, feature_types=None, gamma=0.057931026029600444,\n",
       "              grow_policy=&#x27;depthwise&#x27;, importance_type=None,\n",
       "              interaction_constraints=None, learning_rate=0.010782989364623309,\n",
       "              max_bin=None, max_cat_threshold=None, max_cat_to_onehot=None,\n",
       "              max_delta_step=None, max_depth=16, max_leaves=None,\n",
       "              min_child_weight=47, missing=nan, monotone_constraints=None,\n",
       "              multi_strategy=None, n_estimators=612, n_jobs=None,\n",
       "              num_parallel_tree=None, random_state=None, ...)</pre></div></div></div></div></div>"
      ],
      "text/plain": [
       "XGBClassifier(base_score=None, booster='gbtree', callbacks=None,\n",
       "              colsample_bylevel=None, colsample_bynode=None,\n",
       "              colsample_bytree=0.4428827911553296, device='cuda',\n",
       "              early_stopping_rounds=None, enable_categorical=False,\n",
       "              eval_metric=None, feature_types=None, gamma=0.057931026029600444,\n",
       "              grow_policy='depthwise', importance_type=None,\n",
       "              interaction_constraints=None, learning_rate=0.010782989364623309,\n",
       "              max_bin=None, max_cat_threshold=None, max_cat_to_onehot=None,\n",
       "              max_delta_step=None, max_depth=16, max_leaves=None,\n",
       "              min_child_weight=47, missing=nan, monotone_constraints=None,\n",
       "              multi_strategy=None, n_estimators=612, n_jobs=None,\n",
       "              num_parallel_tree=None, random_state=None, ...)"
      ]
     },
     "execution_count": 9,
     "metadata": {},
     "output_type": "execute_result"
    }
   ],
   "source": [
    "model = XGBClassifier(**params)\n",
    "model.fit(X_train, y_train)"
   ]
  },
  {
   "cell_type": "code",
   "execution_count": 10,
   "id": "ab780e05-3275-41d6-9ed8-edd74cb5c828",
   "metadata": {},
   "outputs": [
    {
     "name": "stdout",
     "output_type": "stream",
     "text": [
      "Concordance Index: 0.7764508107224112\n"
     ]
    }
   ],
   "source": [
    "print(f'Concordance Index: {concordance_index(y_test, model.predict_proba(X_test)[:, 1])}')"
   ]
  },
  {
   "cell_type": "code",
   "execution_count": 11,
   "id": "f0f30178-f440-4c8d-b89a-623e3783f478",
   "metadata": {},
   "outputs": [
    {
     "name": "stdout",
     "output_type": "stream",
     "text": [
      "              precision    recall  f1-score   support\n",
      "\n",
      "           0       0.92      1.00      0.96     11658\n",
      "           1       0.66      0.11      0.19      1070\n",
      "\n",
      "    accuracy                           0.92     12728\n",
      "   macro avg       0.79      0.55      0.57     12728\n",
      "weighted avg       0.90      0.92      0.89     12728\n"
     ]
    }
   ],
   "source": [
    "print(classification_report(y_test, model.predict(X_test)))"
   ]
  }
 ],
 "metadata": {
  "language_info": {
   "name": "python"
  }
 },
 "nbformat": 4,
 "nbformat_minor": 5
}
