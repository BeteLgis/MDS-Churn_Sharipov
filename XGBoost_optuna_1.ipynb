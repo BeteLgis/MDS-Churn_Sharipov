{
 "cells": [
  {
   "cell_type": "code",
   "execution_count": 1,
   "id": "228c3bdf-ec45-4aae-8fbc-09a181e12360",
   "metadata": {},
   "outputs": [],
   "source": [
    "import pandas as pd\n",
    "\n",
    "from xgboost import XGBClassifier\n",
    "from sklearn.model_selection import train_test_split\n",
    "from lifelines.utils import concordance_index\n",
    "from sklearn.metrics import classification_report\n",
    "\n",
    "import json\n",
    "import optuna\n",
    "from optuna.samplers import TPESampler\n",
    "from params_manager import save_params"
   ]
  },
  {
   "cell_type": "code",
   "execution_count": 2,
   "id": "40c875f2-952d-4f29-b32f-51ae65ce1653",
   "metadata": {},
   "outputs": [],
   "source": [
    "import warnings\n",
    "warnings.filterwarnings('ignore')"
   ]
  },
  {
   "cell_type": "code",
   "execution_count": 3,
   "id": "211d68fb02f09505",
   "metadata": {},
   "outputs": [],
   "source": [
    "from params_manager import INTERNAL_PATH\n",
    "\n",
    "seed = 142"
   ]
  },
  {
   "cell_type": "markdown",
   "id": "3839f93d-ebcc-4221-8d6f-89df90f922da",
   "metadata": {},
   "source": [
    "## Load features"
   ]
  },
  {
   "cell_type": "code",
   "execution_count": 4,
   "id": "ed00fd18-f457-4c02-851f-a645e92d6c80",
   "metadata": {},
   "outputs": [
    {
     "data": {
      "text/plain": [
       "((63636,), (63636, 166))"
      ]
     },
     "execution_count": 4,
     "metadata": {},
     "output_type": "execute_result"
    }
   ],
   "source": [
    "t = pd.read_csv(INTERNAL_PATH / 'train.csv')\n",
    "t = t[t['outlier'] == 0].drop(['outlier', 'user_id'], axis=1)\n",
    "\n",
    "X = t.drop('target', axis=1)\n",
    "y = t['target']\n",
    "\n",
    "cat_col = X.select_dtypes(include=['object']).columns.tolist()\n",
    "y.shape, X.shape"
   ]
  },
  {
   "cell_type": "code",
   "execution_count": 5,
   "id": "cd4d79a2-a80a-4f13-b191-c22293a6a3ab",
   "metadata": {},
   "outputs": [],
   "source": [
    "X_train, X_test, y_train, y_test = train_test_split(X.drop(cat_col, axis=1), y,\n",
    "                                                    test_size=0.2, random_state=seed, stratify=y)"
   ]
  },
  {
   "cell_type": "markdown",
   "id": "55d39488b2c09128",
   "metadata": {
    "collapsed": false
   },
   "source": [
    "## Hyperparameter Optimization with Optuna"
   ]
  },
  {
   "cell_type": "code",
   "execution_count": 6,
   "id": "fe4eb3eb-52a7-404e-9652-a67eb116541d",
   "metadata": {},
   "outputs": [
    {
     "name": "stdout",
     "output_type": "stream",
     "text": [
      "New best CI on 0 trial: 0.7582451102527966\n",
      "New best CI on 2 trial: 0.7727479264970667\n",
      "New best CI on 5 trial: 0.7826822221474002\n",
      "New best CI on 92 trial: 0.783633275773886\n",
      "New best CI on 130 trial: 0.7836607327526082\n",
      "New best CI on 177 trial: 0.7839223957556721\n",
      "New best CI on 215 trial: 0.7839470068285707\n",
      "New best CI on 291 trial: 0.7840454511201645\n",
      "New best CI on 301 trial: 0.78481961767059\n",
      "New best CI on 329 trial: 0.7851191993625171\n",
      "New best CI on 1481 trial: 0.7851220452683408\n",
      "New best CI on 3604 trial: 0.7852052980344811\n"
     ]
    }
   ],
   "source": [
    "optuna.logging.set_verbosity(optuna.logging.WARNING)\n",
    "\n",
    "ci_best = 0\n",
    "bests = []\n",
    "\n",
    "def objective(trial: optuna.trial.Trial):\n",
    "    global ci_best, bests\n",
    "    \n",
    "    params = {\n",
    "        'n_estimators': trial.suggest_int('n_estimators', 600, 5000),\n",
    "        'learning_rate': trial.suggest_float('learning_rate', 0.01, 0.1, log=True),\n",
    "        'gamma' : trial.suggest_float('gamma', 1e-9, 0.5),\n",
    "        'subsample': trial.suggest_float('subsample', 0.1, 1.0),\n",
    "        'colsample_bytree': trial.suggest_float('colsample_bytree', 0.1, 1.0),\n",
    "        'max_depth': trial.suggest_int('max_depth', 1, 30),\n",
    "        'min_child_weight': trial.suggest_int('min_child_weight', 1, 100),\n",
    "        'reg_lambda': trial.suggest_float('reg_lambda', 1e-9, 100.0, log=True),\n",
    "        'reg_alpha': trial.suggest_float('reg_alpha', 1e-9, 100.0, log=True),\n",
    "    }\n",
    "    params['booster'] = 'gbtree'\n",
    "    params['grow_policy'] = 'depthwise'\n",
    "    params['objective'] = 'binary:logistic'\n",
    "    params[\"tree_method\"] = 'hist'\n",
    "    params[\"device\"] = 'cuda'\n",
    "    params[\"verbosity\"] = 0\n",
    "    \n",
    "    xgb = XGBClassifier(**params)\n",
    "    xgb.fit(X_train, y_train)\n",
    "    CI = concordance_index(y_test, xgb.predict_proba(X_test)[:,1])\n",
    "    \n",
    "    if CI > ci_best:\n",
    "        ci_best = CI\n",
    "        print(f'New best CI on {trial.number} trial: {ci_best}')\n",
    "        bests.append((trial.number, CI, trial.params, params))\n",
    "    \n",
    "    if len(bests) % 2 == 0 or trial.number == 4999:\n",
    "        with open(f'params/xbgs.json', 'w', encoding='utf-8') as f:\n",
    "            json.dump(bests, f)\n",
    "            \n",
    "    return CI\n",
    "\n",
    "sqlite_db = \"sqlite:///xgb_sqlite.db\"\n",
    "study_name = \"binary_classification_XGBoost\"\n",
    "study = optuna.create_study(storage=sqlite_db, study_name=study_name, \n",
    "                            sampler=TPESampler(n_startup_trials=50, multivariate=True, seed=seed),\n",
    "                            direction=\"maximize\", load_if_exists=True)\n",
    "\n",
    "study.optimize(objective, n_trials=5000)"
   ]
  },
  {
   "cell_type": "code",
   "execution_count": 7,
   "id": "71ff0a24-ab17-40ab-a3d1-e6f7b15a4ae7",
   "metadata": {},
   "outputs": [
    {
     "name": "stdout",
     "output_type": "stream",
     "text": [
      "best optimized roc_auc: 0.78521\n"
     ]
    },
    {
     "data": {
      "text/plain": [
       "{'n_estimators': 616,\n",
       " 'learning_rate': 0.010527109253362778,\n",
       " 'gamma': 0.012349661426635947,\n",
       " 'subsample': 0.8534720350236409,\n",
       " 'colsample_bytree': 0.8043442648731229,\n",
       " 'max_depth': 6,\n",
       " 'min_child_weight': 42,\n",
       " 'reg_lambda': 0.0004746750410906658,\n",
       " 'reg_alpha': 0.0005328387762813716,\n",
       " 'booster': 'gbtree',\n",
       " 'grow_policy': 'depthwise',\n",
       " 'objective': 'binary:logistic',\n",
       " 'tree_method': 'hist',\n",
       " 'device': 'cuda',\n",
       " 'verbosity': 0}"
      ]
     },
     "execution_count": 7,
     "metadata": {},
     "output_type": "execute_result"
    }
   ],
   "source": [
    "print(f\"best optimized roc_auc: {study.best_value:0.5f}\")\n",
    "\n",
    "\n",
    "params = study.best_params\n",
    "params['booster'] = 'gbtree'\n",
    "params['grow_policy'] = 'depthwise'\n",
    "params['objective'] = 'binary:logistic'\n",
    "params[\"tree_method\"] = 'hist'\n",
    "params[\"device\"] = 'cuda'\n",
    "params[\"verbosity\"] = 0\n",
    "\n",
    "params"
   ]
  },
  {
   "cell_type": "code",
   "execution_count": 8,
   "id": "239f443c-54c0-4107-9af2-f9a481bc02d3",
   "metadata": {},
   "outputs": [
    {
     "data": {
      "text/html": [
       "<style>#sk-container-id-1 {color: black;}#sk-container-id-1 pre{padding: 0;}#sk-container-id-1 div.sk-toggleable {background-color: white;}#sk-container-id-1 label.sk-toggleable__label {cursor: pointer;display: block;width: 100%;margin-bottom: 0;padding: 0.3em;box-sizing: border-box;text-align: center;}#sk-container-id-1 label.sk-toggleable__label-arrow:before {content: \"▸\";float: left;margin-right: 0.25em;color: #696969;}#sk-container-id-1 label.sk-toggleable__label-arrow:hover:before {color: black;}#sk-container-id-1 div.sk-estimator:hover label.sk-toggleable__label-arrow:before {color: black;}#sk-container-id-1 div.sk-toggleable__content {max-height: 0;max-width: 0;overflow: hidden;text-align: left;background-color: #f0f8ff;}#sk-container-id-1 div.sk-toggleable__content pre {margin: 0.2em;color: black;border-radius: 0.25em;background-color: #f0f8ff;}#sk-container-id-1 input.sk-toggleable__control:checked~div.sk-toggleable__content {max-height: 200px;max-width: 100%;overflow: auto;}#sk-container-id-1 input.sk-toggleable__control:checked~label.sk-toggleable__label-arrow:before {content: \"▾\";}#sk-container-id-1 div.sk-estimator input.sk-toggleable__control:checked~label.sk-toggleable__label {background-color: #d4ebff;}#sk-container-id-1 div.sk-label input.sk-toggleable__control:checked~label.sk-toggleable__label {background-color: #d4ebff;}#sk-container-id-1 input.sk-hidden--visually {border: 0;clip: rect(1px 1px 1px 1px);clip: rect(1px, 1px, 1px, 1px);height: 1px;margin: -1px;overflow: hidden;padding: 0;position: absolute;width: 1px;}#sk-container-id-1 div.sk-estimator {font-family: monospace;background-color: #f0f8ff;border: 1px dotted black;border-radius: 0.25em;box-sizing: border-box;margin-bottom: 0.5em;}#sk-container-id-1 div.sk-estimator:hover {background-color: #d4ebff;}#sk-container-id-1 div.sk-parallel-item::after {content: \"\";width: 100%;border-bottom: 1px solid gray;flex-grow: 1;}#sk-container-id-1 div.sk-label:hover label.sk-toggleable__label {background-color: #d4ebff;}#sk-container-id-1 div.sk-serial::before {content: \"\";position: absolute;border-left: 1px solid gray;box-sizing: border-box;top: 0;bottom: 0;left: 50%;z-index: 0;}#sk-container-id-1 div.sk-serial {display: flex;flex-direction: column;align-items: center;background-color: white;padding-right: 0.2em;padding-left: 0.2em;position: relative;}#sk-container-id-1 div.sk-item {position: relative;z-index: 1;}#sk-container-id-1 div.sk-parallel {display: flex;align-items: stretch;justify-content: center;background-color: white;position: relative;}#sk-container-id-1 div.sk-item::before, #sk-container-id-1 div.sk-parallel-item::before {content: \"\";position: absolute;border-left: 1px solid gray;box-sizing: border-box;top: 0;bottom: 0;left: 50%;z-index: -1;}#sk-container-id-1 div.sk-parallel-item {display: flex;flex-direction: column;z-index: 1;position: relative;background-color: white;}#sk-container-id-1 div.sk-parallel-item:first-child::after {align-self: flex-end;width: 50%;}#sk-container-id-1 div.sk-parallel-item:last-child::after {align-self: flex-start;width: 50%;}#sk-container-id-1 div.sk-parallel-item:only-child::after {width: 0;}#sk-container-id-1 div.sk-dashed-wrapped {border: 1px dashed gray;margin: 0 0.4em 0.5em 0.4em;box-sizing: border-box;padding-bottom: 0.4em;background-color: white;}#sk-container-id-1 div.sk-label label {font-family: monospace;font-weight: bold;display: inline-block;line-height: 1.2em;}#sk-container-id-1 div.sk-label-container {text-align: center;}#sk-container-id-1 div.sk-container {/* jupyter's `normalize.less` sets `[hidden] { display: none; }` but bootstrap.min.css set `[hidden] { display: none !important; }` so we also need the `!important` here to be able to override the default hidden behavior on the sphinx rendered scikit-learn.org. See: https://github.com/scikit-learn/scikit-learn/issues/21755 */display: inline-block !important;position: relative;}#sk-container-id-1 div.sk-text-repr-fallback {display: none;}</style><div id=\"sk-container-id-1\" class=\"sk-top-container\"><div class=\"sk-text-repr-fallback\"><pre>XGBClassifier(base_score=None, booster=&#x27;gbtree&#x27;, callbacks=None,\n",
       "              colsample_bylevel=None, colsample_bynode=None,\n",
       "              colsample_bytree=0.8043442648731229, device=&#x27;cuda&#x27;,\n",
       "              early_stopping_rounds=None, enable_categorical=False,\n",
       "              eval_metric=None, feature_types=None, gamma=0.012349661426635947,\n",
       "              grow_policy=&#x27;depthwise&#x27;, importance_type=None,\n",
       "              interaction_constraints=None, learning_rate=0.010527109253362778,\n",
       "              max_bin=None, max_cat_threshold=None, max_cat_to_onehot=None,\n",
       "              max_delta_step=None, max_depth=6, max_leaves=None,\n",
       "              min_child_weight=42, missing=nan, monotone_constraints=None,\n",
       "              multi_strategy=None, n_estimators=616, n_jobs=None,\n",
       "              num_parallel_tree=None, random_state=None, ...)</pre><b>In a Jupyter environment, please rerun this cell to show the HTML representation or trust the notebook. <br />On GitHub, the HTML representation is unable to render, please try loading this page with nbviewer.org.</b></div><div class=\"sk-container\" hidden><div class=\"sk-item\"><div class=\"sk-estimator sk-toggleable\"><input class=\"sk-toggleable__control sk-hidden--visually\" id=\"sk-estimator-id-1\" type=\"checkbox\" checked><label for=\"sk-estimator-id-1\" class=\"sk-toggleable__label sk-toggleable__label-arrow\">XGBClassifier</label><div class=\"sk-toggleable__content\"><pre>XGBClassifier(base_score=None, booster=&#x27;gbtree&#x27;, callbacks=None,\n",
       "              colsample_bylevel=None, colsample_bynode=None,\n",
       "              colsample_bytree=0.8043442648731229, device=&#x27;cuda&#x27;,\n",
       "              early_stopping_rounds=None, enable_categorical=False,\n",
       "              eval_metric=None, feature_types=None, gamma=0.012349661426635947,\n",
       "              grow_policy=&#x27;depthwise&#x27;, importance_type=None,\n",
       "              interaction_constraints=None, learning_rate=0.010527109253362778,\n",
       "              max_bin=None, max_cat_threshold=None, max_cat_to_onehot=None,\n",
       "              max_delta_step=None, max_depth=6, max_leaves=None,\n",
       "              min_child_weight=42, missing=nan, monotone_constraints=None,\n",
       "              multi_strategy=None, n_estimators=616, n_jobs=None,\n",
       "              num_parallel_tree=None, random_state=None, ...)</pre></div></div></div></div></div>"
      ],
      "text/plain": [
       "XGBClassifier(base_score=None, booster='gbtree', callbacks=None,\n",
       "              colsample_bylevel=None, colsample_bynode=None,\n",
       "              colsample_bytree=0.8043442648731229, device='cuda',\n",
       "              early_stopping_rounds=None, enable_categorical=False,\n",
       "              eval_metric=None, feature_types=None, gamma=0.012349661426635947,\n",
       "              grow_policy='depthwise', importance_type=None,\n",
       "              interaction_constraints=None, learning_rate=0.010527109253362778,\n",
       "              max_bin=None, max_cat_threshold=None, max_cat_to_onehot=None,\n",
       "              max_delta_step=None, max_depth=6, max_leaves=None,\n",
       "              min_child_weight=42, missing=nan, monotone_constraints=None,\n",
       "              multi_strategy=None, n_estimators=616, n_jobs=None,\n",
       "              num_parallel_tree=None, random_state=None, ...)"
      ]
     },
     "execution_count": 8,
     "metadata": {},
     "output_type": "execute_result"
    }
   ],
   "source": [
    "model = XGBClassifier(**params)\n",
    "model.fit(X_train, y_train)"
   ]
  },
  {
   "cell_type": "code",
   "execution_count": 9,
   "id": "ab780e05-3275-41d6-9ed8-edd74cb5c828",
   "metadata": {},
   "outputs": [
    {
     "name": "stdout",
     "output_type": "stream",
     "text": [
      "Concordance Index: 0.7852052980344811\n"
     ]
    }
   ],
   "source": [
    "print(f'Concordance Index: {concordance_index(y_test, model.predict_proba(X_test)[:, 1])}')"
   ]
  },
  {
   "cell_type": "code",
   "execution_count": 10,
   "id": "f0f30178-f440-4c8d-b89a-623e3783f478",
   "metadata": {},
   "outputs": [
    {
     "name": "stdout",
     "output_type": "stream",
     "text": [
      "              precision    recall  f1-score   support\n",
      "\n",
      "           0       0.92      0.99      0.96     11658\n",
      "           1       0.66      0.11      0.19      1070\n",
      "\n",
      "    accuracy                           0.92     12728\n",
      "   macro avg       0.79      0.55      0.58     12728\n",
      "weighted avg       0.90      0.92      0.89     12728\n"
     ]
    }
   ],
   "source": [
    "print(classification_report(y_test, model.predict(X_test)))"
   ]
  }
 ],
 "metadata": {
  "language_info": {
   "name": "python"
  },
  "kernelspec": {
   "name": "python3",
   "language": "python",
   "display_name": "Python 3 (ipykernel)"
  }
 },
 "nbformat": 4,
 "nbformat_minor": 5
}
