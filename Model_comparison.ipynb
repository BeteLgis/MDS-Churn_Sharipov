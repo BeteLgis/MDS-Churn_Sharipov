{
 "cells": [
  {
   "cell_type": "code",
   "execution_count": 1,
   "id": "initial_id",
   "metadata": {},
   "outputs": [],
   "source": [
    "import pandas as pd\n",
    "import numpy as np\n",
    "\n",
    "from sklearn.model_selection import train_test_split, cross_val_score\n",
    "from sklearn.ensemble import ExtraTreesClassifier, RandomForestClassifier, AdaBoostClassifier, GradientBoostingClassifier\n",
    "from xgboost import XGBClassifier\n",
    "from catboost import CatBoostClassifier\n",
    "from imblearn.ensemble import EasyEnsembleClassifier\n",
    "from lifelines.utils import concordance_index\n",
    "\n",
    "from datetime import timedelta\n",
    "from timeit import default_timer as timer\n",
    "from params_manager import seed_everything, get_column_names"
   ]
  },
  {
   "cell_type": "code",
   "execution_count": 2,
   "id": "7f7b7650ad989c39",
   "metadata": {},
   "outputs": [],
   "source": [
    "from params_manager import INTERNAL_PATH\n",
    "\n",
    "seed = 42"
   ]
  },
  {
   "cell_type": "code",
   "execution_count": 3,
   "id": "ae76af7c0fbebbef",
   "metadata": {},
   "outputs": [
    {
     "data": {
      "text/plain": [
       "167"
      ]
     },
     "execution_count": 3,
     "metadata": {},
     "output_type": "execute_result"
    }
   ],
   "source": [
    "train_df = pd.read_csv(INTERNAL_PATH / 'train.csv')\n",
    "train_df = train_df.fillna(0)\n",
    "\n",
    "feature_columns, target_column, num_features, cat_features, ignored_features = get_column_names(train_df, full=True)\n",
    "len(feature_columns)"
   ]
  },
  {
   "cell_type": "code",
   "execution_count": 4,
   "id": "a2bbe67619f339ff",
   "metadata": {},
   "outputs": [
    {
     "data": {
      "text/plain": [
       "((57272, 163), (6364, 163), (57272,), (6364,))"
      ]
     },
     "execution_count": 4,
     "metadata": {},
     "output_type": "execute_result"
    }
   ],
   "source": [
    "X_train, X_test, y_train, y_test = train_test_split(train_df[num_features], train_df[target_column],\n",
    "                                                    test_size=0.1, random_state=seed,\n",
    "                                                    stratify=train_df['target'])\n",
    "X_train.shape, X_test.shape, y_train.shape, y_test.shape"
   ]
  },
  {
   "cell_type": "code",
   "execution_count": 5,
   "id": "aa3312fc878dd799",
   "metadata": {},
   "outputs": [
    {
     "data": {
      "text/plain": [
       "{0: 0.5458739205856001, 1: 5.949719509661334}"
      ]
     },
     "execution_count": 5,
     "metadata": {},
     "output_type": "execute_result"
    }
   ],
   "source": [
    "from sklearn.utils.class_weight import compute_class_weight\n",
    "\n",
    "classes = np.unique(y_train)\n",
    "weights = compute_class_weight(class_weight='balanced', classes=classes, y=y_train)\n",
    "class_weights = dict(zip(classes, weights))\n",
    "class_weights"
   ]
  },
  {
   "cell_type": "code",
   "execution_count": 6,
   "id": "c71a65aa7b3f9c46",
   "metadata": {},
   "outputs": [
    {
     "name": "stdout",
     "output_type": "stream",
     "text": [
      "RandomForestClassifier\n",
      "Runtime: 0:01:14\n",
      "ROC-AUC: 0.7408428450637511\n",
      "Concordance index: 0.7356604024671999\n",
      "\n",
      "EasyEnsembleClassifier\n",
      "Runtime: 0:02:42\n",
      "ROC-AUC: 0.7552669773190365\n",
      "Concordance index: 0.757698135170105\n",
      "\n",
      "ExtraTreesClassifier\n",
      "Runtime: 0:00:22\n",
      "ROC-AUC: 0.7410630891205316\n",
      "Concordance index: 0.7590794015741467\n",
      "\n",
      "GradientBoostingClassifier\n",
      "Runtime: 0:42:15\n",
      "ROC-AUC: 0.7473311032731995\n",
      "Concordance index: 0.7577386993488888\n",
      "\n",
      "AdaBoostClassifier\n",
      "Runtime: 0:11:03\n",
      "ROC-AUC: 0.7304979138519397\n",
      "Concordance index: 0.7417376539795384\n",
      "\n",
      "XGBoost\n",
      "Runtime: 0:00:10\n",
      "ROC-AUC: 0.7586834537075344\n",
      "Concordance index: 0.7675940311334081\n",
      "\n",
      "CatBoost\n",
      "Runtime: 0:03:05\n",
      "ROC-AUC: 0.7674411575460218\n",
      "Concordance index: 0.7708758816295577\n"
     ]
    }
   ],
   "source": [
    "seed_everything(seed)\n",
    "\n",
    "classifiers = [\n",
    "    ('RandomForestClassifier',\n",
    "     RandomForestClassifier(\n",
    "         n_estimators=100,\n",
    "         random_state=seed,\n",
    "         n_jobs=-1,\n",
    "         class_weight=class_weights\n",
    "     )),\n",
    "    ('EasyEnsembleClassifier',\n",
    "     EasyEnsembleClassifier(\n",
    "         n_estimators=100,\n",
    "         random_state=seed,\n",
    "         n_jobs=-1,\n",
    "     )),\n",
    "    ('ExtraTreesClassifier', \n",
    "     ExtraTreesClassifier(\n",
    "         n_estimators=100,\n",
    "         random_state=seed,\n",
    "         n_jobs=-1,\n",
    "         class_weight=class_weights\n",
    "     )),\n",
    "    ('GradientBoostingClassifier',\n",
    "     GradientBoostingClassifier(\n",
    "         n_estimators=100,\n",
    "         random_state=seed,\n",
    "         learning_rate=0.02\n",
    "     )),\n",
    "    ('AdaBoostClassifier',\n",
    "     AdaBoostClassifier(\n",
    "         n_estimators=100,\n",
    "         random_state=seed,\n",
    "         learning_rate=0.02\n",
    "     )),\n",
    "    ('XGBoost', \n",
    "     XGBClassifier(\n",
    "         n_estimators=100,\n",
    "         learning_rate=0.02,\n",
    "         objective='binary:logistic',\n",
    "         verbosity=0,\n",
    "         device='cuda'\n",
    "    )),\n",
    "    ('CatBoost',\n",
    "     CatBoostClassifier(\n",
    "         random_state=seed,\n",
    "         learning_rate=0.02,\n",
    "         eval_metric='AUC',\n",
    "         verbose=False,\n",
    "         early_stopping_rounds=500,\n",
    "         iterations=1000\n",
    "    ))\n",
    "]\n",
    "\n",
    "def cross_validate(classifiers, X_train, y_train, X_test, y_test):\n",
    "    cv_results = []\n",
    "    for name, classifier in classifiers:\n",
    "        print(name)\n",
    "        start = timer()\n",
    "        \n",
    "        classifier.fit(X_train, y_train)\n",
    "        roc = (cross_val_score(classifier, X_train, y_train,\n",
    "                               scoring = \"roc_auc\", cv=5, n_jobs=-1)).mean()\n",
    "        \n",
    "        runtime = timer() - start\n",
    "        print(f'Runtime: {timedelta(seconds=int(round(runtime, 0)))}')\n",
    "        \n",
    "        CI = concordance_index(y_test, classifier.predict_proba(X_test)[:,1])\n",
    "        print(f'ROC-AUC: {roc}')\n",
    "        print(f'Concordance index: {CI}')\n",
    "        print()\n",
    "        cv_results.append((name, runtime, roc, CI))\n",
    "    best_clf = classifiers[np.argmax(cv_results)]\n",
    "    return best_clf\n",
    "\n",
    "res = cross_validate(classifiers, X_train, y_train, X_test, y_test)"
   ]
  }
 ],
 "metadata": {
  "language_info": {
   "name": "python"
  },
  "kernelspec": {
   "name": "python3",
   "language": "python",
   "display_name": "Python 3 (ipykernel)"
  }
 },
 "nbformat": 4,
 "nbformat_minor": 5
}
