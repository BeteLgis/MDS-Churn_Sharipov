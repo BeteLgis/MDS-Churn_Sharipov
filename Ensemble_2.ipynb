{
 "cells": [
  {
   "cell_type": "code",
   "execution_count": 1,
   "id": "228c3bdf-ec45-4aae-8fbc-09a181e12360",
   "metadata": {},
   "outputs": [],
   "source": [
    "import pandas as pd\n",
    "import numpy as np\n",
    "\n",
    "from tqdm.notebook import tqdm\n",
    "from catboost import CatBoostClassifier\n",
    "from xgboost import XGBClassifier\n",
    "from sklearn.model_selection import train_test_split\n",
    "from lifelines.utils import concordance_index\n",
    "from sklearn.metrics import classification_report, roc_curve, roc_auc_score\n",
    "from Churn.repos.churn.params_manager import load_params\n",
    "\n",
    "import optuna\n",
    "\n",
    "import seaborn as sns\n",
    "import matplotlib.pyplot as plt\n",
    "%matplotlib inline"
   ]
  },
  {
   "cell_type": "code",
   "execution_count": 2,
   "id": "fda530928378d3a9",
   "metadata": {},
   "outputs": [],
   "source": [
    "import warnings\n",
    "warnings.filterwarnings('ignore')\n",
    "sns.set()"
   ]
  },
  {
   "cell_type": "code",
   "execution_count": 3,
   "id": "f9e5e1cb3177501b",
   "metadata": {},
   "outputs": [],
   "source": [
    "from params_manager import INTERNAL_PATH, SUBMIT_PATH\n",
    "\n",
    "seed = 142"
   ]
  },
  {
   "cell_type": "code",
   "execution_count": 4,
   "id": "408555f1-6011-4948-abb4-dbfe040d7851",
   "metadata": {},
   "outputs": [],
   "source": [
    "params_xgb = load_params('xbg2')\n",
    "params_cat = load_params('cat2')"
   ]
  },
  {
   "cell_type": "code",
   "execution_count": 5,
   "id": "1287be35-1683-4cc4-800e-7051b29a6536",
   "metadata": {},
   "outputs": [
    {
     "data": {
      "text/plain": [
       "(63636, 167)"
      ]
     },
     "execution_count": 5,
     "metadata": {},
     "output_type": "execute_result"
    }
   ],
   "source": [
    "t = pd.read_csv(INTERNAL_PATH / 'train.csv')\n",
    "t = t[t['outlier'] == 0].drop('outlier', axis=1)\n",
    "\n",
    "X = t.drop('target', axis=1)\n",
    "y = t['target']\n",
    "\n",
    "cat_col = X.select_dtypes(include=['object']).columns.tolist()\n",
    "X.shape"
   ]
  },
  {
   "cell_type": "code",
   "execution_count": 6,
   "id": "c3c7d42e-e404-40e0-9a28-69c2d1ad4761",
   "metadata": {},
   "outputs": [],
   "source": [
    "X_train, X_test, y_train, y_test = train_test_split(X, y,\n",
    "                                                    test_size=0.2, random_state=seed, stratify=y)\n",
    "\n",
    "X_train_num = X_train.drop(cat_col, axis=1)\n",
    "X_test_num = X_test.drop(cat_col, axis=1)"
   ]
  },
  {
   "cell_type": "code",
   "execution_count": 7,
   "id": "4333b534-21ad-43f6-8ee6-68dfb90ecf68",
   "metadata": {},
   "outputs": [],
   "source": [
    "predictions = []\n",
    "score = []"
   ]
  },
  {
   "cell_type": "code",
   "execution_count": 8,
   "id": "d92d69c3-ba9d-4cab-a2f4-13dcb46ee345",
   "metadata": {},
   "outputs": [
    {
     "data": {
      "application/vnd.jupyter.widget-view+json": {
       "model_id": "e37ce9f5c29d47609aac3ef902a36357",
       "version_major": 2,
       "version_minor": 0
      },
      "text/plain": [
       "  0%|          | 0/7 [00:00<?, ?it/s]"
      ]
     },
     "metadata": {},
     "output_type": "display_data"
    },
    {
     "name": "stdout",
     "output_type": "stream",
     "text": [
      "0.7865805519614304\n",
      "----------------------------------------------\n",
      "0.7863645837842691\n",
      "----------------------------------------------\n",
      "0.7839216742584211\n",
      "----------------------------------------------\n",
      "0.7852557226756967\n",
      "----------------------------------------------\n",
      "0.7841471020662077\n",
      "----------------------------------------------\n",
      "0.7869617430090925\n",
      "----------------------------------------------\n",
      "0.7856586388072528\n",
      "----------------------------------------------\n"
     ]
    }
   ],
   "source": [
    "for i in tqdm(params_cat):\n",
    "    model_cat = CatBoostClassifier(verbose=False, **i)\n",
    "    model_cat.fit(X_train, y_train)\n",
    "    pred = model_cat.predict_proba(X_test)[:, 1]\n",
    "    predictions.append(pred)\n",
    "    _score = concordance_index(y_test, pred)\n",
    "    score.append(_score)\n",
    "    print(_score)\n",
    "    print('----------------------------------------------')"
   ]
  },
  {
   "cell_type": "code",
   "execution_count": 9,
   "id": "674983ed-6873-4dcf-8da8-d03c53ffba81",
   "metadata": {},
   "outputs": [
    {
     "data": {
      "application/vnd.jupyter.widget-view+json": {
       "model_id": "5dbc39375dbd4b15a50a9ca99b015d07",
       "version_major": 2,
       "version_minor": 0
      },
      "text/plain": [
       "  0%|          | 0/7 [00:00<?, ?it/s]"
      ]
     },
     "metadata": {},
     "output_type": "display_data"
    },
    {
     "name": "stdout",
     "output_type": "stream",
     "text": [
      "0.7894705893670545\n",
      "----------------------------------------------\n",
      "0.7891302029972599\n",
      "----------------------------------------------\n",
      "0.7884789314786044\n",
      "----------------------------------------------\n",
      "0.7878628129093495\n",
      "----------------------------------------------\n",
      "0.7873276623649397\n",
      "----------------------------------------------\n",
      "0.7867878220883978\n",
      "----------------------------------------------\n",
      "0.786735353204971\n",
      "----------------------------------------------\n"
     ]
    }
   ],
   "source": [
    "for i in tqdm(params_xgb):\n",
    "    model_xgb = XGBClassifier(**i)\n",
    "    model_xgb.fit(X_train_num, y_train)\n",
    "    pred = model_xgb.predict_proba(X_test_num)[:, 1]\n",
    "    predictions.append(pred)\n",
    "    _score = concordance_index(y_test, pred)\n",
    "    score.append(_score)\n",
    "    print(_score)\n",
    "    print('----------------------------------------------')"
   ]
  },
  {
   "cell_type": "code",
   "execution_count": 10,
   "id": "e28688a0-6d42-44d4-916e-b38ed8abe6d9",
   "metadata": {},
   "outputs": [
    {
     "data": {
      "text/plain": [
       "[0.7865805519614304,\n",
       " 0.7863645837842691,\n",
       " 0.7839216742584211,\n",
       " 0.7852557226756967,\n",
       " 0.7841471020662077,\n",
       " 0.7869617430090925,\n",
       " 0.7856586388072528,\n",
       " 0.7894705893670545,\n",
       " 0.7891302029972599,\n",
       " 0.7884789314786044,\n",
       " 0.7878628129093495,\n",
       " 0.7873276623649397,\n",
       " 0.7867878220883978,\n",
       " 0.786735353204971]"
      ]
     },
     "execution_count": 10,
     "metadata": {},
     "output_type": "execute_result"
    }
   ],
   "source": [
    "score"
   ]
  },
  {
   "cell_type": "markdown",
   "id": "394202c42eda425c",
   "metadata": {
    "collapsed": false
   },
   "source": [
    "## Creating an ensemble"
   ]
  },
  {
   "cell_type": "code",
   "execution_count": 11,
   "id": "5706fdd7d9afbf4f",
   "metadata": {},
   "outputs": [
    {
     "data": {
      "text/plain": [
       "8178"
      ]
     },
     "execution_count": 11,
     "metadata": {},
     "output_type": "execute_result"
    }
   ],
   "source": [
    "from itertools import chain, combinations\n",
    "def all_subsets(ss):\n",
    "    return chain(*map(lambda x: combinations(ss, x), range(2, len(ss)+1)))\n",
    "\n",
    "CIs = []\n",
    "for subset in all_subsets(range(len(predictions))):\n",
    "    preds = list(map(predictions.__getitem__, subset))\n",
    "    ensemble_predictions = np.average(preds, axis=0)\n",
    "    CIs.append((subset, concordance_index(y_test,  ensemble_predictions)))\n",
    "\n",
    "CIs = sorted(CIs, key=lambda x: x[1], reverse=True)\n",
    "len(CIs)"
   ]
  },
  {
   "cell_type": "code",
   "execution_count": 12,
   "id": "8d1135cead98361e",
   "metadata": {},
   "outputs": [
    {
     "data": {
      "text/plain": [
       "[((1, 7, 8), 0.7902531333022288),\n",
       " ((1, 3, 7, 8), 0.7902290833938589),\n",
       " ((5, 7, 8), 0.7902126492898062),\n",
       " ((1, 5, 7, 8), 0.7902030293264583),\n",
       " ((1, 4, 7, 8), 0.7901784182535598),\n",
       " ((0, 1, 7, 8), 0.7901676759611546),\n",
       " ((3, 5, 7, 8), 0.7901592584932251),\n",
       " ((1, 3, 4, 7, 8), 0.7901446682154808),\n",
       " ((1, 3, 5, 7, 8), 0.7901425037237275),\n",
       " ((0, 1, 3, 7, 8), 0.7901259092869523),\n",
       " ((0, 7, 8), 0.790124065460644),\n",
       " ((1, 5, 7, 8, 10), 0.790111319009208),\n",
       " ((4, 5, 7, 8), 0.7901102768465119),\n",
       " ((0, 1, 7, 8, 10), 0.7901081123547586),\n",
       " ((1, 7, 8, 10), 0.790105466864838),\n",
       " ((1, 3, 7, 8, 10), 0.7900997750531904),\n",
       " ((0, 5, 7, 8), 0.7900972898959921),\n",
       " ((1, 4, 5, 7, 8), 0.7900869484353932),\n",
       " ((1, 5, 7, 8, 11), 0.7900831004500539),\n",
       " ((0, 1, 4, 7, 8), 0.7900827797846091),\n",
       " ((1, 5, 7, 8, 9), 0.7900778896365738),\n",
       " ((1, 6, 7, 8), 0.7900750838139307),\n",
       " ((0, 3, 7, 8), 0.7900709953295078),\n",
       " ((1, 4, 7, 8, 10), 0.7900697126677281),\n",
       " ((1, 7, 10), 0.7900633795251907),\n",
       " ((0, 1, 7, 8, 11), 0.7900612951997986),\n",
       " ((0, 1, 5, 7, 8), 0.7900576075471819),\n",
       " ((0, 1, 3, 7, 8, 10), 0.7900550422236224),\n",
       " ((1, 3, 5, 7, 8, 10), 0.7900550422236224),\n",
       " ((3, 4, 5, 7, 8), 0.7900526372327855)]"
      ]
     },
     "execution_count": 12,
     "metadata": {},
     "output_type": "execute_result"
    }
   ],
   "source": [
    "CIs[:30]"
   ]
  },
  {
   "cell_type": "code",
   "execution_count": 13,
   "id": "5f275bf36141c12b",
   "metadata": {},
   "outputs": [
    {
     "data": {
      "text/plain": [
       "array([0.79025313, 0.79022908, 0.79021265, 0.79020303, 0.79017842,\n",
       "       0.79016768, 0.79015926, 0.79014467, 0.7901425 , 0.79012591,\n",
       "       0.79012407, 0.79011132, 0.79011028, 0.79010811, 0.79010547,\n",
       "       0.79009978, 0.79009729, 0.79008695, 0.7900831 , 0.79008278,\n",
       "       0.79007789, 0.79007508, 0.790071  , 0.79006971, 0.79006338,\n",
       "       0.7900613 , 0.79005761, 0.79005504, 0.79005504, 0.79005264,\n",
       "       0.79005168, 0.79005127, 0.79004967, 0.79004887, 0.79004887,\n",
       "       0.7900451 , 0.7900443 , 0.79004302, 0.79003853, 0.79003845,\n",
       "       0.7900338 , 0.79003244, 0.79003195, 0.79003107, 0.79003043,\n",
       "       0.79002322, 0.79002225, 0.79001841, 0.7900176 , 0.79001608,\n",
       "       0.79001456, 0.79001416, 0.79001328, 0.79001207, 0.79001119,\n",
       "       0.79001055, 0.79001031, 0.79000887, 0.79000823, 0.79000702,\n",
       "       0.79000606, 0.79000558, 0.7900055 , 0.79000446, 0.79000157,\n",
       "       0.79000125])"
      ]
     },
     "execution_count": 13,
     "metadata": {},
     "output_type": "execute_result"
    }
   ],
   "source": [
    "nc = np.array(list(map(lambda x: x[1], CIs)))\n",
    "len(nc[nc > 0.79])"
   ]
  },
  {
   "cell_type": "code",
   "execution_count": 14,
   "id": "15693c45ef6ed53b",
   "metadata": {},
   "outputs": [
    {
     "name": "stdout",
     "output_type": "stream",
     "text": [
      "Best subset: (1, 7, 8)\n",
      "Best CI: 0.790290731325647\n",
      "Best subset: (1, 3, 7, 8)\n",
      "Best CI: 0.7902912123238144\n",
      "Best subset: (1, 5, 7, 8)\n",
      "Best CI: 0.7903387509760255\n",
      "Best subset: (1, 5, 7, 8, 10)\n",
      "Best CI: 0.7903418774641136\n",
      "Best subset: (1, 3, 5, 7, 8, 10)\n",
      "Best CI: 0.7903421179631972\n"
     ]
    }
   ],
   "source": [
    "old_verbosity = optuna.logging.get_verbosity()\n",
    "optuna.logging.set_verbosity(optuna.logging.WARNING)\n",
    "\n",
    "best_CI = 0\n",
    "best_subset = None\n",
    "best_subsets = []\n",
    "for (subset, CI) in CIs[:len(nc)]:\n",
    "    preds = list(map(predictions.__getitem__, subset))\n",
    "    def objective(trial):\n",
    "        weights = []\n",
    "        for i in range(len(preds)):\n",
    "            weights.append(trial.suggest_float(f'weight_model{i}', 0.0, 1.0))\n",
    "        \n",
    "        ensemble_predictions = np.average(preds, axis=0, weights=weights)\n",
    "        return concordance_index(y_test,  ensemble_predictions)\n",
    "\n",
    "    study = optuna.study.create_study(direction='maximize')\n",
    "    study.optimize(objective, n_trials=1000)\n",
    "    if study.best_value > best_CI:\n",
    "        best_CI = study.best_value\n",
    "        best_subset = subset\n",
    "        print(f'Best subset: {subset}')\n",
    "        print(f'Best CI: {best_CI}')\n",
    "        best_subsets.append((best_subset, best_CI))\n",
    "\n",
    "# optuna.logging.set_verbosity(old_verbosity)"
   ]
  },
  {
   "cell_type": "code",
   "execution_count": 15,
   "id": "8b9204ed84426c64",
   "metadata": {},
   "outputs": [],
   "source": [
    "_predictions6 = [predictions[2], predictions[3], predictions[7],\n",
    "                predictions[8], predictions[9], predictions[10]]\n",
    "\n",
    "def objective(trial):\n",
    "    weights = []\n",
    "    for i in range(len(_predictions6)):\n",
    "        weights.append(trial.suggest_float(f'weight_model{i}', 0.0, 1.0))\n",
    "    \n",
    "    ensemble_predictions = np.average(_predictions6, axis=0, weights=weights)\n",
    "    return concordance_index(y_test,  ensemble_predictions)\n",
    "\n",
    "sqlite_db = \"sqlite:///ensemble_sqlite_2.db\"\n",
    "study_name = \"ensemble_6\"\n",
    "study = optuna.create_study(storage=sqlite_db, study_name=study_name,\n",
    "                            direction='maximize', load_if_exists=True)\n",
    "study.optimize(objective, n_trials=3000)\n",
    "\n",
    "best_weights = study.best_params"
   ]
  },
  {
   "cell_type": "code",
   "execution_count": 16,
   "id": "ed5b9036a1c83699",
   "metadata": {},
   "outputs": [
    {
     "data": {
      "text/plain": [
       "0.7903438816231444"
      ]
     },
     "execution_count": 16,
     "metadata": {},
     "output_type": "execute_result"
    }
   ],
   "source": [
    "study.best_value"
   ]
  },
  {
   "cell_type": "code",
   "execution_count": 17,
   "id": "2d030c0d87c924ab",
   "metadata": {},
   "outputs": [
    {
     "data": {
      "text/plain": [
       "[0.6759404119188154,\n",
       " 7.470884124259245e-06,\n",
       " 0.39436594395691293,\n",
       " 0.999313873347907,\n",
       " 0.5160167974516661,\n",
       " 0.02109019230165833]"
      ]
     },
     "execution_count": 17,
     "metadata": {},
     "output_type": "execute_result"
    }
   ],
   "source": [
    "weights6 = list(best_weights.values())\n",
    "weights6"
   ]
  },
  {
   "cell_type": "code",
   "execution_count": 18,
   "id": "63573181ed42b63e",
   "metadata": {},
   "outputs": [],
   "source": [
    "_predictions5 = [predictions[1], predictions[5],\n",
    "                predictions[7], predictions[8], predictions[10]]\n",
    "def objective(trial):\n",
    "    weights = []\n",
    "    for i in range(len(_predictions5)):\n",
    "        weights.append(trial.suggest_float(f'weight_model{i}', 0.0, 1.0))\n",
    "    \n",
    "    ensemble_predictions = np.average(_predictions5, axis=0, weights=weights)\n",
    "    return concordance_index(y_test,  ensemble_predictions)\n",
    "\n",
    "sqlite_db = \"sqlite:///ensemble_sqlite_2.db\"\n",
    "study_name = \"ensemble_5\"\n",
    "study = optuna.create_study(storage=sqlite_db, study_name=study_name,\n",
    "                            direction='maximize', load_if_exists=True)\n",
    "study.optimize(objective, n_trials=3000)\n",
    "\n",
    "best_weights = study.best_params"
   ]
  },
  {
   "cell_type": "code",
   "execution_count": 19,
   "id": "345c67615b0de529",
   "metadata": {},
   "outputs": [
    {
     "data": {
      "text/plain": [
       "0.7903442824549505"
      ]
     },
     "execution_count": 19,
     "metadata": {},
     "output_type": "execute_result"
    }
   ],
   "source": [
    "study.best_value"
   ]
  },
  {
   "cell_type": "code",
   "execution_count": 20,
   "id": "88cc8f61e77d87b5",
   "metadata": {},
   "outputs": [
    {
     "data": {
      "text/plain": [
       "[0.6748112941377284,\n",
       " 0.3599765870873497,\n",
       " 0.9579044883744967,\n",
       " 0.4981941626762752,\n",
       " 0.03004972246958215]"
      ]
     },
     "execution_count": 20,
     "metadata": {},
     "output_type": "execute_result"
    }
   ],
   "source": [
    "weights5 = list(best_weights.values())\n",
    "weights5"
   ]
  },
  {
   "cell_type": "code",
   "execution_count": 21,
   "id": "cb361c43889ee958",
   "metadata": {},
   "outputs": [],
   "source": [
    "_predictions4_1 = [predictions[1], predictions[5],\n",
    "                predictions[7], predictions[8]]\n",
    "def objective(trial):\n",
    "    weights = []\n",
    "    for i in range(len(_predictions4_1)):\n",
    "        weights.append(trial.suggest_float(f'weight_model{i}', 0.0, 1.0))\n",
    "    \n",
    "    ensemble_predictions = np.average(_predictions4_1, axis=0, weights=weights)\n",
    "    return concordance_index(y_test,  ensemble_predictions)\n",
    "\n",
    "sqlite_db = \"sqlite:///ensemble_sqlite_2.db\"\n",
    "study_name = \"ensemble_4_1\"\n",
    "study = optuna.create_study(storage=sqlite_db, study_name=study_name,\n",
    "                            direction='maximize', load_if_exists=True)\n",
    "study.optimize(objective, n_trials=3000)\n",
    "\n",
    "best_weights = study.best_params"
   ]
  },
  {
   "cell_type": "code",
   "execution_count": 22,
   "id": "8f40b5ee5bda3f55",
   "metadata": {},
   "outputs": [
    {
     "data": {
      "text/plain": [
       "0.7903413162995849"
      ]
     },
     "execution_count": 22,
     "metadata": {},
     "output_type": "execute_result"
    }
   ],
   "source": [
    "study.best_value"
   ]
  },
  {
   "cell_type": "code",
   "execution_count": 23,
   "id": "b7427d6a269041b8",
   "metadata": {},
   "outputs": [
    {
     "data": {
      "text/plain": [
       "[0.6525270332036371,\n",
       " 0.3433582010288681,\n",
       " 0.9129870498114102,\n",
       " 0.4672548853633455]"
      ]
     },
     "execution_count": 23,
     "metadata": {},
     "output_type": "execute_result"
    }
   ],
   "source": [
    "weights4_1 = list(best_weights.values())\n",
    "weights4_1"
   ]
  },
  {
   "cell_type": "code",
   "execution_count": 24,
   "id": "f366b9f587108acc",
   "metadata": {},
   "outputs": [],
   "source": [
    "_predictions4_2 = [predictions[1], predictions[3],\n",
    "                predictions[7], predictions[8]]\n",
    "def objective(trial):\n",
    "    weights = []\n",
    "    for i in range(len(_predictions4_2)):\n",
    "        weights.append(trial.suggest_float(f'weight_model{i}', 0.0, 1.0))\n",
    "    \n",
    "    ensemble_predictions = np.average(_predictions4_2, axis=0, weights=weights)\n",
    "    return concordance_index(y_test,  ensemble_predictions)\n",
    "\n",
    "sqlite_db = \"sqlite:///ensemble_sqlite_2.db\"\n",
    "study_name = \"ensemble_4_2\"\n",
    "study = optuna.create_study(storage=sqlite_db, study_name=study_name,\n",
    "                            direction='maximize', load_if_exists=True)\n",
    "study.optimize(objective, n_trials=3000)\n",
    "\n",
    "best_weights = study.best_params"
   ]
  },
  {
   "cell_type": "code",
   "execution_count": 25,
   "id": "1eab59d0ca59fcca",
   "metadata": {},
   "outputs": [
    {
     "data": {
      "text/plain": [
       "0.7902934569819289"
      ]
     },
     "execution_count": 25,
     "metadata": {},
     "output_type": "execute_result"
    }
   ],
   "source": [
    "study.best_value"
   ]
  },
  {
   "cell_type": "code",
   "execution_count": 26,
   "id": "5f04823df5bd40e8",
   "metadata": {},
   "outputs": [
    {
     "data": {
      "text/plain": [
       "[0.9186569304331755,\n",
       " 0.0002195348963950211,\n",
       " 0.7363561486701803,\n",
       " 0.6177472668778808]"
      ]
     },
     "execution_count": 26,
     "metadata": {},
     "output_type": "execute_result"
    }
   ],
   "source": [
    "weights4_2 = list(best_weights.values())\n",
    "weights4_2"
   ]
  },
  {
   "cell_type": "code",
   "execution_count": 27,
   "id": "1e8bff4e6bc23f35",
   "metadata": {},
   "outputs": [],
   "source": [
    "_predictions3 = [predictions[1],\n",
    "                predictions[7], predictions[8]]\n",
    "def objective(trial):\n",
    "    weights = []\n",
    "    for i in range(len(_predictions3)):\n",
    "        weights.append(trial.suggest_float(f'weight_model{i}', 0.0, 1.0))\n",
    "    \n",
    "    ensemble_predictions = np.average(_predictions3, axis=0, weights=weights)\n",
    "    return concordance_index(y_test,  ensemble_predictions)\n",
    "\n",
    "sqlite_db = \"sqlite:///ensemble_sqlite_2.db\"\n",
    "study_name = \"ensemble_3\"\n",
    "study = optuna.create_study(storage=sqlite_db, study_name=study_name,\n",
    "                            direction='maximize', load_if_exists=True)\n",
    "study.optimize(objective, n_trials=3000)\n",
    "\n",
    "best_weights = study.best_params"
   ]
  },
  {
   "cell_type": "code",
   "execution_count": 28,
   "id": "5d8e1cf724164bd8",
   "metadata": {},
   "outputs": [
    {
     "data": {
      "text/plain": [
       "0.7902927354846778"
      ]
     },
     "execution_count": 28,
     "metadata": {},
     "output_type": "execute_result"
    }
   ],
   "source": [
    "study.best_value"
   ]
  },
  {
   "cell_type": "code",
   "execution_count": 29,
   "id": "e8ca983a4eae1a08",
   "metadata": {},
   "outputs": [
    {
     "data": {
      "text/plain": [
       "[0.918823862728365, 0.7353787014813309, 0.6169380911179919]"
      ]
     },
     "execution_count": 29,
     "metadata": {},
     "output_type": "execute_result"
    }
   ],
   "source": [
    "weights3 = list(best_weights.values())\n",
    "weights3"
   ]
  },
  {
   "cell_type": "markdown",
   "id": "331818a26b31f35a",
   "metadata": {
    "collapsed": false
   },
   "source": [
    "## ROC"
   ]
  },
  {
   "cell_type": "code",
   "execution_count": 30,
   "id": "215d46d5-7ce9-4870-9c77-d4037b1e7d94",
   "metadata": {},
   "outputs": [
    {
     "data": {
      "image/png": "[encoded data removed]",
      "text/plain": [
       "<Figure size 800x600 with 1 Axes>"
      ]
     },
     "metadata": {},
     "output_type": "display_data"
    },
    {
     "name": "stdout",
     "output_type": "stream",
     "text": [
      "Best Threshold: 0.06478610964014615\n",
      "Sensitivity (True Positive Rate) at best threshold: 0.7046728971962617\n",
      "False Positive Rate at best threshold: 0.27586206896551724\n"
     ]
    }
   ],
   "source": [
    "# Calculate the ROC curve\n",
    "fpr, tpr, thresholds = roc_curve(y_test, np.average(_predictions5, axis=0, weights=weights5))\n",
    "\n",
    "# Calculate the area under the ROC curve (ROC AUC)\n",
    "roc_auc = roc_auc_score(y_test, np.average(_predictions5, axis=0, weights=weights5))\n",
    "\n",
    "# Draw the ROC curve\n",
    "plt.figure(figsize=(8, 6))\n",
    "plt.plot(fpr, tpr, color='blue', lw=2, label='ROC curve (area = %0.4f)' % roc_auc)\n",
    "plt.plot([0, 1], [0, 1], color='gray', linestyle='--')\n",
    "plt.xlabel('False Positive Rate')\n",
    "plt.ylabel('True Positive Rate')\n",
    "plt.title('Receiver Operating Characteristic (ROC) Curve')\n",
    "plt.legend(loc=\"lower right\")\n",
    "plt.show()\n",
    "\n",
    "# Find the threshold that maximizes sensitivity and minimizes false positives\n",
    "best_threshold_idx = np.argmax(tpr - fpr)\n",
    "best_threshold = thresholds[best_threshold_idx]\n",
    "best_tpr = tpr[best_threshold_idx]\n",
    "best_fpr = fpr[best_threshold_idx]\n",
    "\n",
    "print(\"Best Threshold:\", best_threshold)\n",
    "print(\"Sensitivity (True Positive Rate) at best threshold:\", best_tpr)\n",
    "print(\"False Positive Rate at best threshold:\", best_fpr)"
   ]
  },
  {
   "cell_type": "markdown",
   "id": "934a68a265e6f480",
   "metadata": {
    "collapsed": false
   },
   "source": [
    "## Youden's J statistic"
   ]
  },
  {
   "cell_type": "code",
   "execution_count": 31,
   "id": "cc0fddb6-66a8-45a1-8cc7-f8188c9da5b0",
   "metadata": {},
   "outputs": [
    {
     "name": "stdout",
     "output_type": "stream",
     "text": [
      "Best Threshold: 0.06478610964014615\n",
      "Sensitivity (True Positive Rate) at best threshold: 0.7046728971962617\n",
      "False Positive Rate at best threshold: 0.27586206896551724\n"
     ]
    }
   ],
   "source": [
    "# Calculate Youden's J statistic for each threshold\n",
    "youden_j = tpr - fpr\n",
    "\n",
    "best_threshold_idx = np.argmax(youden_j)\n",
    "best_threshold = thresholds[best_threshold_idx]\n",
    "best_tpr = tpr[best_threshold_idx]\n",
    "best_fpr = fpr[best_threshold_idx]\n",
    "\n",
    "print(\"Best Threshold:\", best_threshold)\n",
    "print(\"Sensitivity (True Positive Rate) at best threshold:\", best_tpr)\n",
    "print(\"False Positive Rate at best threshold:\", best_fpr)"
   ]
  },
  {
   "cell_type": "code",
   "execution_count": 32,
   "id": "c64bd1814e593ba",
   "metadata": {},
   "outputs": [],
   "source": [
    "X_num = X.drop(cat_col, axis=1)"
   ]
  },
  {
   "cell_type": "code",
   "execution_count": 33,
   "id": "2de3a6dd6c541e00",
   "metadata": {},
   "outputs": [
    {
     "data": {
      "text/plain": [
       "(32000, 167)"
      ]
     },
     "execution_count": 33,
     "metadata": {},
     "output_type": "execute_result"
    }
   ],
   "source": [
    "submit = pd.read_csv(INTERNAL_PATH / 'submit_time.csv')[X.columns]\n",
    "submit = submit[X.columns]\n",
    "submit_num = submit.drop(cat_col, axis=1)\n",
    "submit.shape"
   ]
  },
  {
   "cell_type": "code",
   "execution_count": 34,
   "id": "12dd76814445e2ff",
   "metadata": {},
   "outputs": [
    {
     "data": {
      "text/plain": [
       "5"
      ]
     },
     "execution_count": 34,
     "metadata": {},
     "output_type": "execute_result"
    }
   ],
   "source": [
    "predictions_submit = []\n",
    "\n",
    "for i in [params_cat[1], params_cat[5]]:\n",
    "    model_cat = CatBoostClassifier(verbose=False, **i)\n",
    "    model_cat.fit(X, y)\n",
    "    predictions_submit.append(model_cat.predict_proba(submit)[:, 1])\n",
    "\n",
    "for i in [params_xgb[0], params_xgb[1], params_xgb[3]]:\n",
    "    model_xgb = XGBClassifier(**i)\n",
    "    model_xgb.fit(X_num, y)\n",
    "    predictions_submit.append(model_xgb.predict_proba(submit_num)[:, 1])\n",
    "\n",
    "len(predictions_submit)"
   ]
  },
  {
   "cell_type": "code",
   "execution_count": 35,
   "id": "560f217edc79398b",
   "metadata": {},
   "outputs": [
    {
     "data": {
      "text/plain": [
       "(32000, 168)"
      ]
     },
     "execution_count": 35,
     "metadata": {},
     "output_type": "execute_result"
    }
   ],
   "source": [
    "submit['predict'] = np.average(predictions_submit, axis=0, weights=weights5)\n",
    "submit[['user_id', 'predict']].to_csv(SUBMIT_PATH / 'submit_Ensemble_2.csv', index=False)\n",
    "submit.shape"
   ]
  }
 ],
 "metadata": {
  "language_info": {
   "name": "python"
  },
  "kernelspec": {
   "name": "python3",
   "language": "python",
   "display_name": "Python 3 (ipykernel)"
  }
 },
 "nbformat": 4,
 "nbformat_minor": 5
}
